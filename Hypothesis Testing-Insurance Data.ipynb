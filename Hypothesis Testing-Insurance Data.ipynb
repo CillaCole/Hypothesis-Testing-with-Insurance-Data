{
 "cells": [
  {
   "cell_type": "markdown",
   "id": "8e23dffa",
   "metadata": {},
   "source": [
    "# Hypothesis Testing with Insurance Data\n",
    "- Priscilla Cole\n",
    "-May 2024"
   ]
  },
  {
   "cell_type": "markdown",
   "id": "def531d0",
   "metadata": {},
   "source": [
    "## Business Problem\n",
    "We have been asked to use our hypothesis testing skills to answer the following questions:\n",
    "\n",
    "- Q1. Do smokers have higher insurance charges than non-smokers?\n",
    "- Q2. Are men more likely to smoke than women?\n",
    "- Q3. Do different regions have different charges, on average?\n",
    "\n",
    "\n",
    "\n",
    "For each question, make sure to:\n",
    "\n",
    "- State your Null Hypothesis and Alternative Hypothesis\n",
    "- Select the correct test according to the data type and number of samples\n",
    "- Test the assumptions of your selected test.\n",
    "- Execute the selected test, or the alternative test (if you do not meet the assumptions)\n",
    "- Interpret your p-value and reject or fail to reject your null hypothesis \n",
    "- Show a supporting visualization that helps display the result"
   ]
  },
  {
   "cell_type": "markdown",
   "id": "38921763",
   "metadata": {},
   "source": [
    "# Import Libraries"
   ]
  },
  {
   "cell_type": "code",
   "execution_count": 1,
   "id": "851a715a",
   "metadata": {},
   "outputs": [],
   "source": [
    "# Import necessary libraries\n",
    "import numpy as np\n",
    "import pandas as pd\n",
    "import matplotlib.pyplot as plt\n",
    "import seaborn as sns\n",
    "import json\n",
    "from scipy import stats"
   ]
  },
  {
   "cell_type": "markdown",
   "id": "8dd77b6b",
   "metadata": {},
   "source": [
    "# Load Data"
   ]
  },
  {
   "cell_type": "code",
   "execution_count": 2,
   "id": "78e624e4",
   "metadata": {},
   "outputs": [
    {
     "data": {
      "text/html": [
       "<div>\n",
       "<style scoped>\n",
       "    .dataframe tbody tr th:only-of-type {\n",
       "        vertical-align: middle;\n",
       "    }\n",
       "\n",
       "    .dataframe tbody tr th {\n",
       "        vertical-align: top;\n",
       "    }\n",
       "\n",
       "    .dataframe thead th {\n",
       "        text-align: right;\n",
       "    }\n",
       "</style>\n",
       "<table border=\"1\" class=\"dataframe\">\n",
       "  <thead>\n",
       "    <tr style=\"text-align: right;\">\n",
       "      <th></th>\n",
       "      <th>age</th>\n",
       "      <th>sex</th>\n",
       "      <th>bmi</th>\n",
       "      <th>children</th>\n",
       "      <th>smoker</th>\n",
       "      <th>region</th>\n",
       "      <th>charges</th>\n",
       "    </tr>\n",
       "  </thead>\n",
       "  <tbody>\n",
       "    <tr>\n",
       "      <th>0</th>\n",
       "      <td>19</td>\n",
       "      <td>female</td>\n",
       "      <td>27.900</td>\n",
       "      <td>0</td>\n",
       "      <td>yes</td>\n",
       "      <td>southwest</td>\n",
       "      <td>16884.92400</td>\n",
       "    </tr>\n",
       "    <tr>\n",
       "      <th>1</th>\n",
       "      <td>18</td>\n",
       "      <td>male</td>\n",
       "      <td>33.770</td>\n",
       "      <td>1</td>\n",
       "      <td>no</td>\n",
       "      <td>southeast</td>\n",
       "      <td>1725.55230</td>\n",
       "    </tr>\n",
       "    <tr>\n",
       "      <th>2</th>\n",
       "      <td>28</td>\n",
       "      <td>male</td>\n",
       "      <td>33.000</td>\n",
       "      <td>3</td>\n",
       "      <td>no</td>\n",
       "      <td>southeast</td>\n",
       "      <td>4449.46200</td>\n",
       "    </tr>\n",
       "    <tr>\n",
       "      <th>3</th>\n",
       "      <td>33</td>\n",
       "      <td>male</td>\n",
       "      <td>22.705</td>\n",
       "      <td>0</td>\n",
       "      <td>no</td>\n",
       "      <td>northwest</td>\n",
       "      <td>21984.47061</td>\n",
       "    </tr>\n",
       "    <tr>\n",
       "      <th>4</th>\n",
       "      <td>32</td>\n",
       "      <td>male</td>\n",
       "      <td>28.880</td>\n",
       "      <td>0</td>\n",
       "      <td>no</td>\n",
       "      <td>northwest</td>\n",
       "      <td>3866.85520</td>\n",
       "    </tr>\n",
       "  </tbody>\n",
       "</table>\n",
       "</div>"
      ],
      "text/plain": [
       "   age     sex     bmi  children smoker     region      charges\n",
       "0   19  female  27.900         0    yes  southwest  16884.92400\n",
       "1   18    male  33.770         1     no  southeast   1725.55230\n",
       "2   28    male  33.000         3     no  southeast   4449.46200\n",
       "3   33    male  22.705         0     no  northwest  21984.47061\n",
       "4   32    male  28.880         0     no  northwest   3866.85520"
      ]
     },
     "execution_count": 2,
     "metadata": {},
     "output_type": "execute_result"
    }
   ],
   "source": [
    "df = pd.read_csv('Data/insurance - insurance.csv')\n",
    "df.head()"
   ]
  },
  {
   "cell_type": "markdown",
   "id": "37a47739",
   "metadata": {},
   "source": [
    "# Do smokers have higher insurance than non-smokers?"
   ]
  },
  {
   "cell_type": "code",
   "execution_count": 3,
   "id": "04f46622",
   "metadata": {},
   "outputs": [
    {
     "data": {
      "text/html": [
       "<div>\n",
       "<style scoped>\n",
       "    .dataframe tbody tr th:only-of-type {\n",
       "        vertical-align: middle;\n",
       "    }\n",
       "\n",
       "    .dataframe tbody tr th {\n",
       "        vertical-align: top;\n",
       "    }\n",
       "\n",
       "    .dataframe thead th {\n",
       "        text-align: right;\n",
       "    }\n",
       "</style>\n",
       "<table border=\"1\" class=\"dataframe\">\n",
       "  <thead>\n",
       "    <tr style=\"text-align: right;\">\n",
       "      <th></th>\n",
       "      <th>smoker</th>\n",
       "      <th>charges</th>\n",
       "    </tr>\n",
       "  </thead>\n",
       "  <tbody>\n",
       "    <tr>\n",
       "      <th>0</th>\n",
       "      <td>yes</td>\n",
       "      <td>16884.9240</td>\n",
       "    </tr>\n",
       "    <tr>\n",
       "      <th>11</th>\n",
       "      <td>yes</td>\n",
       "      <td>27808.7251</td>\n",
       "    </tr>\n",
       "    <tr>\n",
       "      <th>14</th>\n",
       "      <td>yes</td>\n",
       "      <td>39611.7577</td>\n",
       "    </tr>\n",
       "    <tr>\n",
       "      <th>19</th>\n",
       "      <td>yes</td>\n",
       "      <td>36837.4670</td>\n",
       "    </tr>\n",
       "    <tr>\n",
       "      <th>23</th>\n",
       "      <td>yes</td>\n",
       "      <td>37701.8768</td>\n",
       "    </tr>\n",
       "  </tbody>\n",
       "</table>\n",
       "</div>"
      ],
      "text/plain": [
       "   smoker     charges\n",
       "0     yes  16884.9240\n",
       "11    yes  27808.7251\n",
       "14    yes  39611.7577\n",
       "19    yes  36837.4670\n",
       "23    yes  37701.8768"
      ]
     },
     "execution_count": 3,
     "metadata": {},
     "output_type": "execute_result"
    }
   ],
   "source": [
    "# create a filter for smokers and their insurance charges\n",
    "smoker_df = df.loc[df.smoker =='yes', ['smoker','charges']].copy()\n",
    "smoker_df.head()"
   ]
  },
  {
   "cell_type": "code",
   "execution_count": 4,
   "id": "1c2088a6",
   "metadata": {},
   "outputs": [
    {
     "data": {
      "text/html": [
       "<div>\n",
       "<style scoped>\n",
       "    .dataframe tbody tr th:only-of-type {\n",
       "        vertical-align: middle;\n",
       "    }\n",
       "\n",
       "    .dataframe tbody tr th {\n",
       "        vertical-align: top;\n",
       "    }\n",
       "\n",
       "    .dataframe thead th {\n",
       "        text-align: right;\n",
       "    }\n",
       "</style>\n",
       "<table border=\"1\" class=\"dataframe\">\n",
       "  <thead>\n",
       "    <tr style=\"text-align: right;\">\n",
       "      <th></th>\n",
       "      <th>smoker</th>\n",
       "      <th>charges</th>\n",
       "    </tr>\n",
       "  </thead>\n",
       "  <tbody>\n",
       "    <tr>\n",
       "      <th>1</th>\n",
       "      <td>no</td>\n",
       "      <td>1725.55230</td>\n",
       "    </tr>\n",
       "    <tr>\n",
       "      <th>2</th>\n",
       "      <td>no</td>\n",
       "      <td>4449.46200</td>\n",
       "    </tr>\n",
       "    <tr>\n",
       "      <th>3</th>\n",
       "      <td>no</td>\n",
       "      <td>21984.47061</td>\n",
       "    </tr>\n",
       "    <tr>\n",
       "      <th>4</th>\n",
       "      <td>no</td>\n",
       "      <td>3866.85520</td>\n",
       "    </tr>\n",
       "    <tr>\n",
       "      <th>5</th>\n",
       "      <td>no</td>\n",
       "      <td>3756.62160</td>\n",
       "    </tr>\n",
       "  </tbody>\n",
       "</table>\n",
       "</div>"
      ],
      "text/plain": [
       "  smoker      charges\n",
       "1     no   1725.55230\n",
       "2     no   4449.46200\n",
       "3     no  21984.47061\n",
       "4     no   3866.85520\n",
       "5     no   3756.62160"
      ]
     },
     "execution_count": 4,
     "metadata": {},
     "output_type": "execute_result"
    }
   ],
   "source": [
    "# create a filter for non-smokers and their insurance charges\n",
    "nosmoker_df = df.loc[df.smoker =='no', ['smoker','charges']].copy()\n",
    "nosmoker_df.head()"
   ]
  },
  {
   "cell_type": "code",
   "execution_count": 5,
   "id": "68b972bc",
   "metadata": {},
   "outputs": [
    {
     "data": {
      "text/plain": [
       "274"
      ]
     },
     "execution_count": 5,
     "metadata": {},
     "output_type": "execute_result"
    }
   ],
   "source": [
    "# info for smokers df\n",
    "len(smoker_df)"
   ]
  },
  {
   "cell_type": "code",
   "execution_count": 6,
   "id": "57d678d7",
   "metadata": {},
   "outputs": [
    {
     "data": {
      "text/plain": [
       "1064"
      ]
     },
     "execution_count": 6,
     "metadata": {},
     "output_type": "execute_result"
    }
   ],
   "source": [
    "# info for no smokers df\n",
    "len(nosmoker_df)"
   ]
  },
  {
   "cell_type": "code",
   "execution_count": 7,
   "id": "1d1a6c49",
   "metadata": {},
   "outputs": [],
   "source": [
    "q1_plot_df = pd.concat([smoker_df, nosmoker_df], axis=0).copy()"
   ]
  },
  {
   "cell_type": "markdown",
   "id": "fe68e8a4",
   "metadata": {},
   "source": [
    "State your Null Hypothesis and Alternative Hypothesis\n",
    "H0 Null Hypothesis\n",
    "\n",
    "No significant difference in insurance costs exists between smokers and non-smokers.\n",
    "\n",
    "HA Alternate Hypothesis\n",
    "\n",
    "A significant difference in insurance costs exists between smokers and non-smokers."
   ]
  },
  {
   "cell_type": "markdown",
   "id": "ae788e8c",
   "metadata": {},
   "source": [
    "## Select the correct test according to the data type and number of samples\n",
    "1. Datatype:\n",
    "Numeric\n",
    "2. Number of Samples/Groups being compared:\n",
    "2 groups (smokers and no smokers)\n",
    "3. Correct Test:\n",
    "2 Sample T-Test"
   ]
  },
  {
   "cell_type": "markdown",
   "id": "51465ed2",
   "metadata": {},
   "source": [
    "### Outliers Assumption"
   ]
  },
  {
   "cell_type": "code",
   "execution_count": 8,
   "id": "83841cec",
   "metadata": {},
   "outputs": [
    {
     "data": {
      "text/plain": [
       "0"
      ]
     },
     "execution_count": 8,
     "metadata": {},
     "output_type": "execute_result"
    }
   ],
   "source": [
    "smokers_group = smoker_df['charges']\n",
    "smokers_outliers = np.abs(stats.zscore(smokers_group)) > 3\n",
    "smokers_outliers.sum()"
   ]
  },
  {
   "cell_type": "code",
   "execution_count": 9,
   "id": "dfe37afe",
   "metadata": {},
   "outputs": [
    {
     "data": {
      "text/plain": [
       "24"
      ]
     },
     "execution_count": 9,
     "metadata": {},
     "output_type": "execute_result"
    }
   ],
   "source": [
    "nosmokers_group = nosmoker_df['charges']\n",
    "nosmokers_outliers = np.abs(stats.zscore(nosmokers_group)) > 3\n",
    "nosmokers_outliers.sum()"
   ]
  },
  {
   "cell_type": "code",
   "execution_count": 10,
   "id": "d1673a22",
   "metadata": {},
   "outputs": [
    {
     "data": {
      "text/plain": [
       "274"
      ]
     },
     "execution_count": 10,
     "metadata": {},
     "output_type": "execute_result"
    }
   ],
   "source": [
    "len(smokers_group)"
   ]
  },
  {
   "cell_type": "code",
   "execution_count": 11,
   "id": "2675dd50",
   "metadata": {},
   "outputs": [
    {
     "data": {
      "text/plain": [
       "1064"
      ]
     },
     "execution_count": 11,
     "metadata": {},
     "output_type": "execute_result"
    }
   ],
   "source": [
    "len(nosmokers_group)"
   ]
  },
  {
   "cell_type": "code",
   "execution_count": 12,
   "id": "9ee5d1f6",
   "metadata": {},
   "outputs": [
    {
     "data": {
      "text/plain": [
       "1040"
      ]
     },
     "execution_count": 12,
     "metadata": {},
     "output_type": "execute_result"
    }
   ],
   "source": [
    "# to remove the outliers and help the test\n",
    "nosmokers_group = nosmokers_group.loc[~nosmokers_outliers]\n",
    "len(nosmokers_group)"
   ]
  },
  {
   "cell_type": "markdown",
   "id": "0aa7c45c",
   "metadata": {},
   "source": [
    "### Normality Assumption"
   ]
  },
  {
   "cell_type": "code",
   "execution_count": 13,
   "id": "2d6c3de1",
   "metadata": {},
   "outputs": [],
   "source": [
    "ho = 'No significant difference in insurance costs exists between smokers and non-smokers.'\n",
    "ha = 'A significant difference in insurance costs exists between smokers and non-smokers.'\n",
    "# standard value for alpha is 5%, which is .05 in decimal value\n",
    "alpha = .05\n",
    "group = smokers_group"
   ]
  },
  {
   "cell_type": "code",
   "execution_count": 14,
   "id": "f81245e4",
   "metadata": {},
   "outputs": [
    {
     "name": "stdout",
     "output_type": "stream",
     "text": [
      "The p-value for the test was 5.564930630036463e-14\n",
      "It was less than the alpha value of 0.05, so\n",
      "A significant difference in insurance costs exists between smokers and non-smokers.\n"
     ]
    }
   ],
   "source": [
    "# Run the test and display the results\n",
    "statistic, pvalue = stats.normaltest(group)\n",
    "if pvalue < alpha:\n",
    "    print(f'The p-value for the test was {pvalue}')\n",
    "    print(f'It was less than the alpha value of {alpha}, so')\n",
    "    print(ha)\n",
    "else:\n",
    "    print(f'The p-value for the test was {pvalue}')\n",
    "    print(f'It was greater than the alpha value of {alpha}, so')\n",
    "    print(ho)   "
   ]
  },
  {
   "cell_type": "code",
   "execution_count": 15,
   "id": "b1f7e629",
   "metadata": {},
   "outputs": [],
   "source": [
    "h0 = \"The sample comes from a normal distribution.\"\n",
    "ha = \"The sample does not come from a normal distribution.\"\n",
    "alpha = .05\n",
    "group = nosmokers_group"
   ]
  },
  {
   "cell_type": "code",
   "execution_count": 16,
   "id": "1264e4dc",
   "metadata": {},
   "outputs": [
    {
     "name": "stdout",
     "output_type": "stream",
     "text": [
      "The p-value for the test was 2.6945416315543976e-36\n",
      "It was < the alpha value of 0.05, so\n",
      "The sample does not come from a normal distribution.\n"
     ]
    }
   ],
   "source": [
    "# Run the test and display the results\n",
    "statistic, pvalue = stats.normaltest(group)\n",
    "if pvalue < alpha:\n",
    "    print(f'The p-value for the test was {pvalue}')\n",
    "    print(f'It was < the alpha value of {alpha}, so')\n",
    "    print(ha)\n",
    "else:\n",
    "    print(f'The p-value for the test was {pvalue}')\n",
    "    print(f'It was > the alpha value of {alpha}, so')\n",
    "    print(ho)  "
   ]
  },
  {
   "cell_type": "markdown",
   "id": "48489431",
   "metadata": {},
   "source": [
    "### Equal Variance Assumption"
   ]
  },
  {
   "cell_type": "code",
   "execution_count": 17,
   "id": "08f1aa67",
   "metadata": {},
   "outputs": [],
   "source": [
    "ho = \"All input samples are from populations with equal variances.\"\n",
    "ha = \"All input samples are not from populations with equal variances.\"\n",
    "alpha = .05"
   ]
  },
  {
   "cell_type": "code",
   "execution_count": 18,
   "id": "d26f0732",
   "metadata": {},
   "outputs": [
    {
     "name": "stdout",
     "output_type": "stream",
     "text": [
      "The p-value for the test was 2.4247238784347824e-97\n",
      "It was less than the alpha value of 0.05, so\n",
      "All input samples are not from populations with equal variances.\n"
     ]
    }
   ],
   "source": [
    "# Run the test and display the results\n",
    "statistic, pvalue = stats.levene(smokers_group, nosmokers_group)\n",
    "if pvalue < alpha:\n",
    "    print(f'The p-value for the test was {pvalue}')\n",
    "    print(f'It was less than the alpha value of {alpha}, so')\n",
    "    print(ha)\n",
    "else:\n",
    "    print(f'The p-value for the test was {pvalue}')\n",
    "    print(f'It was greater than the alpha value of {alpha}, so')\n",
    "    print(ho)    "
   ]
  },
  {
   "cell_type": "markdown",
   "id": "16970203",
   "metadata": {},
   "source": [
    "### Execute Selected Test (or alternate if necessary)"
   ]
  },
  {
   "cell_type": "code",
   "execution_count": 19,
   "id": "542c0e21",
   "metadata": {},
   "outputs": [
    {
     "name": "stdout",
     "output_type": "stream",
     "text": [
      "The p-value for the test was 2.575322662587431e-104\n",
      "It was less than the alpha value of 0.05, so\n",
      "All input samples are not from populations with equal variances.\n"
     ]
    }
   ],
   "source": [
    "# Run the test and display the results\n",
    "statistic, pvalue = stats.ttest_ind(smokers_group, nosmokers_group, equal_var=False) #double check equal_var=True/False\n",
    "if pvalue < alpha:\n",
    "    print(f'The p-value for the test was {pvalue}')\n",
    "    print(f'It was less than the alpha value of {alpha}, so')\n",
    "    print(ha)\n",
    "else:\n",
    "    print(f'The p-value for the test was {pvalue}')\n",
    "    print(f'It was greater than the alpha value of {alpha}, so')\n",
    "    print(ho)"
   ]
  },
  {
   "cell_type": "markdown",
   "id": "e5660f9b",
   "metadata": {},
   "source": [
    "## Supporting Visualization"
   ]
  },
  {
   "cell_type": "code",
   "execution_count": 20,
   "id": "c482e3d8",
   "metadata": {},
   "outputs": [
    {
     "data": {
      "text/html": [
       "<div>\n",
       "<style scoped>\n",
       "    .dataframe tbody tr th:only-of-type {\n",
       "        vertical-align: middle;\n",
       "    }\n",
       "\n",
       "    .dataframe tbody tr th {\n",
       "        vertical-align: top;\n",
       "    }\n",
       "\n",
       "    .dataframe thead th {\n",
       "        text-align: right;\n",
       "    }\n",
       "</style>\n",
       "<table border=\"1\" class=\"dataframe\">\n",
       "  <thead>\n",
       "    <tr style=\"text-align: right;\">\n",
       "      <th></th>\n",
       "      <th>smoker</th>\n",
       "      <th>charges</th>\n",
       "    </tr>\n",
       "  </thead>\n",
       "  <tbody>\n",
       "    <tr>\n",
       "      <th>0</th>\n",
       "      <td>yes</td>\n",
       "      <td>16884.9240</td>\n",
       "    </tr>\n",
       "    <tr>\n",
       "      <th>11</th>\n",
       "      <td>yes</td>\n",
       "      <td>27808.7251</td>\n",
       "    </tr>\n",
       "    <tr>\n",
       "      <th>14</th>\n",
       "      <td>yes</td>\n",
       "      <td>39611.7577</td>\n",
       "    </tr>\n",
       "    <tr>\n",
       "      <th>19</th>\n",
       "      <td>yes</td>\n",
       "      <td>36837.4670</td>\n",
       "    </tr>\n",
       "    <tr>\n",
       "      <th>23</th>\n",
       "      <td>yes</td>\n",
       "      <td>37701.8768</td>\n",
       "    </tr>\n",
       "    <tr>\n",
       "      <th>...</th>\n",
       "      <td>...</td>\n",
       "      <td>...</td>\n",
       "    </tr>\n",
       "    <tr>\n",
       "      <th>1332</th>\n",
       "      <td>no</td>\n",
       "      <td>11411.6850</td>\n",
       "    </tr>\n",
       "    <tr>\n",
       "      <th>1333</th>\n",
       "      <td>no</td>\n",
       "      <td>10600.5483</td>\n",
       "    </tr>\n",
       "    <tr>\n",
       "      <th>1334</th>\n",
       "      <td>no</td>\n",
       "      <td>2205.9808</td>\n",
       "    </tr>\n",
       "    <tr>\n",
       "      <th>1335</th>\n",
       "      <td>no</td>\n",
       "      <td>1629.8335</td>\n",
       "    </tr>\n",
       "    <tr>\n",
       "      <th>1336</th>\n",
       "      <td>no</td>\n",
       "      <td>2007.9450</td>\n",
       "    </tr>\n",
       "  </tbody>\n",
       "</table>\n",
       "<p>1338 rows × 2 columns</p>\n",
       "</div>"
      ],
      "text/plain": [
       "     smoker     charges\n",
       "0       yes  16884.9240\n",
       "11      yes  27808.7251\n",
       "14      yes  39611.7577\n",
       "19      yes  36837.4670\n",
       "23      yes  37701.8768\n",
       "...     ...         ...\n",
       "1332     no  11411.6850\n",
       "1333     no  10600.5483\n",
       "1334     no   2205.9808\n",
       "1335     no   1629.8335\n",
       "1336     no   2007.9450\n",
       "\n",
       "[1338 rows x 2 columns]"
      ]
     },
     "execution_count": 20,
     "metadata": {},
     "output_type": "execute_result"
    }
   ],
   "source": [
    "q1_plot_df"
   ]
  },
  {
   "cell_type": "markdown",
   "id": "37885c74",
   "metadata": {},
   "source": [
    "### A statistical significance exists. The null hypothesis is rejected and the alternative is supported"
   ]
  },
  {
   "cell_type": "code",
   "execution_count": 21,
   "id": "133d77bc",
   "metadata": {},
   "outputs": [
    {
     "data": {
      "image/png": "[encoded data removed]",
      "text/plain": [
       "<Figure size 640x480 with 1 Axes>"
      ]
     },
     "metadata": {},
     "output_type": "display_data"
    }
   ],
   "source": [
    "# bar graph to show the correlation between smokers and charges\n",
    "sns.barplot(data=q1_plot_df, x='smoker', y='charges');"
   ]
  },
  {
   "cell_type": "markdown",
   "id": "fbad0387",
   "metadata": {},
   "source": [
    "# Are men more likely to smoke than women?"
   ]
  },
  {
   "cell_type": "code",
   "execution_count": 22,
   "id": "c1b28f33",
   "metadata": {},
   "outputs": [
    {
     "data": {
      "text/html": [
       "<div>\n",
       "<style scoped>\n",
       "    .dataframe tbody tr th:only-of-type {\n",
       "        vertical-align: middle;\n",
       "    }\n",
       "\n",
       "    .dataframe tbody tr th {\n",
       "        vertical-align: top;\n",
       "    }\n",
       "\n",
       "    .dataframe thead th {\n",
       "        text-align: right;\n",
       "    }\n",
       "</style>\n",
       "<table border=\"1\" class=\"dataframe\">\n",
       "  <thead>\n",
       "    <tr style=\"text-align: right;\">\n",
       "      <th></th>\n",
       "      <th>sex</th>\n",
       "      <th>smoker</th>\n",
       "    </tr>\n",
       "  </thead>\n",
       "  <tbody>\n",
       "    <tr>\n",
       "      <th>1</th>\n",
       "      <td>male</td>\n",
       "      <td>no</td>\n",
       "    </tr>\n",
       "    <tr>\n",
       "      <th>2</th>\n",
       "      <td>male</td>\n",
       "      <td>no</td>\n",
       "    </tr>\n",
       "    <tr>\n",
       "      <th>3</th>\n",
       "      <td>male</td>\n",
       "      <td>no</td>\n",
       "    </tr>\n",
       "    <tr>\n",
       "      <th>4</th>\n",
       "      <td>male</td>\n",
       "      <td>no</td>\n",
       "    </tr>\n",
       "    <tr>\n",
       "      <th>8</th>\n",
       "      <td>male</td>\n",
       "      <td>no</td>\n",
       "    </tr>\n",
       "  </tbody>\n",
       "</table>\n",
       "</div>"
      ],
      "text/plain": [
       "    sex smoker\n",
       "1  male     no\n",
       "2  male     no\n",
       "3  male     no\n",
       "4  male     no\n",
       "8  male     no"
      ]
     },
     "execution_count": 22,
     "metadata": {},
     "output_type": "execute_result"
    }
   ],
   "source": [
    "# men filter\n",
    "men_df = df.loc[df.sex =='male', ['sex','smoker']].copy()\n",
    "men_df.head()"
   ]
  },
  {
   "cell_type": "code",
   "execution_count": 23,
   "id": "17486a8f",
   "metadata": {},
   "outputs": [
    {
     "data": {
      "text/html": [
       "<div>\n",
       "<style scoped>\n",
       "    .dataframe tbody tr th:only-of-type {\n",
       "        vertical-align: middle;\n",
       "    }\n",
       "\n",
       "    .dataframe tbody tr th {\n",
       "        vertical-align: top;\n",
       "    }\n",
       "\n",
       "    .dataframe thead th {\n",
       "        text-align: right;\n",
       "    }\n",
       "</style>\n",
       "<table border=\"1\" class=\"dataframe\">\n",
       "  <thead>\n",
       "    <tr style=\"text-align: right;\">\n",
       "      <th></th>\n",
       "      <th>sex</th>\n",
       "      <th>smoker</th>\n",
       "    </tr>\n",
       "  </thead>\n",
       "  <tbody>\n",
       "    <tr>\n",
       "      <th>1</th>\n",
       "      <td>male</td>\n",
       "      <td>no</td>\n",
       "    </tr>\n",
       "    <tr>\n",
       "      <th>2</th>\n",
       "      <td>male</td>\n",
       "      <td>no</td>\n",
       "    </tr>\n",
       "    <tr>\n",
       "      <th>3</th>\n",
       "      <td>male</td>\n",
       "      <td>no</td>\n",
       "    </tr>\n",
       "    <tr>\n",
       "      <th>4</th>\n",
       "      <td>male</td>\n",
       "      <td>no</td>\n",
       "    </tr>\n",
       "    <tr>\n",
       "      <th>8</th>\n",
       "      <td>male</td>\n",
       "      <td>no</td>\n",
       "    </tr>\n",
       "  </tbody>\n",
       "</table>\n",
       "</div>"
      ],
      "text/plain": [
       "    sex smoker\n",
       "1  male     no\n",
       "2  male     no\n",
       "3  male     no\n",
       "4  male     no\n",
       "8  male     no"
      ]
     },
     "execution_count": 23,
     "metadata": {},
     "output_type": "execute_result"
    }
   ],
   "source": [
    "# women filter\n",
    "women_df = df.loc[df.sex =='female', ['sex','smoker']].copy()\n",
    "men_df.head()"
   ]
  },
  {
   "cell_type": "code",
   "execution_count": 24,
   "id": "c3ccc6ef",
   "metadata": {},
   "outputs": [
    {
     "data": {
      "text/plain": [
       "676"
      ]
     },
     "execution_count": 24,
     "metadata": {},
     "output_type": "execute_result"
    }
   ],
   "source": [
    "len(men_df)"
   ]
  },
  {
   "cell_type": "code",
   "execution_count": 25,
   "id": "4d6c0635",
   "metadata": {},
   "outputs": [
    {
     "data": {
      "text/plain": [
       "662"
      ]
     },
     "execution_count": 25,
     "metadata": {},
     "output_type": "execute_result"
    }
   ],
   "source": [
    "len(women_df)"
   ]
  },
  {
   "cell_type": "code",
   "execution_count": 26,
   "id": "f03213fd",
   "metadata": {},
   "outputs": [],
   "source": [
    "# plot for q2's supporting visualization\n",
    "q2_plot_df = pd.concat([men_df, women_df], axis=0).copy()"
   ]
  },
  {
   "cell_type": "markdown",
   "id": "a5a7b603",
   "metadata": {},
   "source": [
    "### State your Null Hypothesis and Alternative Hypothesis\n",
    "H0 Null Hypothesis\n",
    "\n",
    "- No significant difference exists in the likelihood of men than women to be smokers.\n",
    "\n",
    "HA Alternate Hypothesis\n",
    "\n",
    "- A significant difference exists in the likelihood of men than women to be smokers."
   ]
  },
  {
   "cell_type": "markdown",
   "id": "300b109e",
   "metadata": {},
   "source": [
    "### Select the correct test according to the data type and number of samples\n",
    "- Datatype:\n",
    "Categorical\n",
    "- Number of Samples/Groups being compared: \n",
    "2\n",
    "- Correct Test:\n",
    "Chi-Square"
   ]
  },
  {
   "cell_type": "markdown",
   "id": "de16a4e4",
   "metadata": {},
   "source": [
    "### Test the assumptions of your selected test.\n",
    "- There are two categorical variables\n",
    "Men\n",
    "Women\n",
    "- The outcomes are independent\n",
    "Confirmed, the outcomes are independent. Men and women are independent of each other"
   ]
  },
  {
   "cell_type": "code",
   "execution_count": 27,
   "id": "1170cd1e",
   "metadata": {},
   "outputs": [],
   "source": [
    "ho = 'No significant difference exists in the likelihood of men than women to be smokers.'\n",
    "ha = 'A significant difference exists in the likelihood of men than women to be smokers.'\n",
    "# standard value for alpha\n",
    "alpha = .05"
   ]
  },
  {
   "cell_type": "code",
   "execution_count": 28,
   "id": "32db93a5",
   "metadata": {},
   "outputs": [
    {
     "data": {
      "text/html": [
       "<div>\n",
       "<style scoped>\n",
       "    .dataframe tbody tr th:only-of-type {\n",
       "        vertical-align: middle;\n",
       "    }\n",
       "\n",
       "    .dataframe tbody tr th {\n",
       "        vertical-align: top;\n",
       "    }\n",
       "\n",
       "    .dataframe thead th {\n",
       "        text-align: right;\n",
       "    }\n",
       "</style>\n",
       "<table border=\"1\" class=\"dataframe\">\n",
       "  <thead>\n",
       "    <tr style=\"text-align: right;\">\n",
       "      <th>smoker</th>\n",
       "      <th>no</th>\n",
       "      <th>yes</th>\n",
       "    </tr>\n",
       "    <tr>\n",
       "      <th>sex</th>\n",
       "      <th></th>\n",
       "      <th></th>\n",
       "    </tr>\n",
       "  </thead>\n",
       "  <tbody>\n",
       "    <tr>\n",
       "      <th>female</th>\n",
       "      <td>547</td>\n",
       "      <td>115</td>\n",
       "    </tr>\n",
       "    <tr>\n",
       "      <th>male</th>\n",
       "      <td>517</td>\n",
       "      <td>159</td>\n",
       "    </tr>\n",
       "  </tbody>\n",
       "</table>\n",
       "</div>"
      ],
      "text/plain": [
       "smoker   no  yes\n",
       "sex             \n",
       "female  547  115\n",
       "male    517  159"
      ]
     },
     "execution_count": 28,
     "metadata": {},
     "output_type": "execute_result"
    }
   ],
   "source": [
    "# calculate the contingency table with pd.cross-tab\n",
    "# https://pandas.pydata.org/pandas-docs/stable/reference/api/pandas.crosstab.html\n",
    "table = pd.crosstab(df['sex'], df['smoker'])\n",
    "table"
   ]
  },
  {
   "cell_type": "markdown",
   "id": "8e3e0571",
   "metadata": {},
   "source": [
    "### Supporting Visualization"
   ]
  },
  {
   "cell_type": "code",
   "execution_count": 29,
   "id": "eff2f39d",
   "metadata": {},
   "outputs": [
    {
     "name": "stdout",
     "output_type": "stream",
     "text": [
      "The p-value for the test was 0.006548143503580696\n",
      "It was less than the alpha value of 0.05, so\n",
      "A significant difference exists in the likelihood of men than women to be smokers.\n"
     ]
    }
   ],
   "source": [
    "# Run the test and display the results\n",
    "chi2, pvalue, deg_free, expected_vals = stats.chi2_contingency(table)\n",
    "if pvalue < alpha:\n",
    "    print(f'The p-value for the test was {pvalue}')\n",
    "    print(f'It was less than the alpha value of {alpha}, so')\n",
    "    print(ha)\n",
    "else:\n",
    "    print(f'The p-value for the test was {pvalue}')\n",
    "    print(f'It was greater than the alpha value of {alpha}, so')\n",
    "    print(ho)"
   ]
  },
  {
   "cell_type": "markdown",
   "id": "99e2934a",
   "metadata": {},
   "source": [
    "###  A significant difference exists in the likelihood of men to be smokers than women. "
   ]
  },
  {
   "cell_type": "code",
   "execution_count": 30,
   "id": "958cbfaf",
   "metadata": {},
   "outputs": [
    {
     "data": {
      "text/html": [
       "<div>\n",
       "<style scoped>\n",
       "    .dataframe tbody tr th:only-of-type {\n",
       "        vertical-align: middle;\n",
       "    }\n",
       "\n",
       "    .dataframe tbody tr th {\n",
       "        vertical-align: top;\n",
       "    }\n",
       "\n",
       "    .dataframe thead th {\n",
       "        text-align: right;\n",
       "    }\n",
       "</style>\n",
       "<table border=\"1\" class=\"dataframe\">\n",
       "  <thead>\n",
       "    <tr style=\"text-align: right;\">\n",
       "      <th></th>\n",
       "      <th>sex</th>\n",
       "      <th>smoker</th>\n",
       "    </tr>\n",
       "  </thead>\n",
       "  <tbody>\n",
       "    <tr>\n",
       "      <th>1</th>\n",
       "      <td>male</td>\n",
       "      <td>no</td>\n",
       "    </tr>\n",
       "    <tr>\n",
       "      <th>2</th>\n",
       "      <td>male</td>\n",
       "      <td>no</td>\n",
       "    </tr>\n",
       "    <tr>\n",
       "      <th>3</th>\n",
       "      <td>male</td>\n",
       "      <td>no</td>\n",
       "    </tr>\n",
       "    <tr>\n",
       "      <th>4</th>\n",
       "      <td>male</td>\n",
       "      <td>no</td>\n",
       "    </tr>\n",
       "    <tr>\n",
       "      <th>8</th>\n",
       "      <td>male</td>\n",
       "      <td>no</td>\n",
       "    </tr>\n",
       "    <tr>\n",
       "      <th>...</th>\n",
       "      <td>...</td>\n",
       "      <td>...</td>\n",
       "    </tr>\n",
       "    <tr>\n",
       "      <th>1332</th>\n",
       "      <td>female</td>\n",
       "      <td>no</td>\n",
       "    </tr>\n",
       "    <tr>\n",
       "      <th>1334</th>\n",
       "      <td>female</td>\n",
       "      <td>no</td>\n",
       "    </tr>\n",
       "    <tr>\n",
       "      <th>1335</th>\n",
       "      <td>female</td>\n",
       "      <td>no</td>\n",
       "    </tr>\n",
       "    <tr>\n",
       "      <th>1336</th>\n",
       "      <td>female</td>\n",
       "      <td>no</td>\n",
       "    </tr>\n",
       "    <tr>\n",
       "      <th>1337</th>\n",
       "      <td>female</td>\n",
       "      <td>yes</td>\n",
       "    </tr>\n",
       "  </tbody>\n",
       "</table>\n",
       "<p>1338 rows × 2 columns</p>\n",
       "</div>"
      ],
      "text/plain": [
       "         sex smoker\n",
       "1       male     no\n",
       "2       male     no\n",
       "3       male     no\n",
       "4       male     no\n",
       "8       male     no\n",
       "...      ...    ...\n",
       "1332  female     no\n",
       "1334  female     no\n",
       "1335  female     no\n",
       "1336  female     no\n",
       "1337  female    yes\n",
       "\n",
       "[1338 rows x 2 columns]"
      ]
     },
     "execution_count": 30,
     "metadata": {},
     "output_type": "execute_result"
    }
   ],
   "source": [
    "q2_plot_df"
   ]
  },
  {
   "cell_type": "markdown",
   "id": "a3f2c3e9",
   "metadata": {},
   "source": [
    "# Do different regions have different charges, on average?"
   ]
  },
  {
   "cell_type": "code",
   "execution_count": 31,
   "id": "fe02b9c5",
   "metadata": {},
   "outputs": [
    {
     "data": {
      "text/plain": [
       "dict_keys(['southwest', 'southeast', 'northwest', 'northeast'])"
      ]
     },
     "execution_count": 31,
     "metadata": {},
     "output_type": "execute_result"
    }
   ],
   "source": [
    "# outliers assumption\n",
    "\n",
    "groups = {}\n",
    "for region in df['region'].unique():\n",
    "    temp_df = df.loc[df['region'] == region, 'charges']\n",
    "    groups[region] = temp_df\n",
    "groups.keys()\n"
   ]
  },
  {
   "cell_type": "code",
   "execution_count": 32,
   "id": "a5455105",
   "metadata": {},
   "outputs": [
    {
     "name": "stdout",
     "output_type": "stream",
     "text": [
      "8 outliers were removed from the southwest group.\n",
      "2 outliers were removed from the southeast group.\n",
      "7 outliers were removed from the northwest group.\n",
      "4 outliers were removed from the northeast group.\n"
     ]
    }
   ],
   "source": [
    "# remove outliers and state how many were removed in f strings\n",
    "\n",
    "for region, data in groups.items():\n",
    "    # Calculate the number of outliers\n",
    "    outliers = np.abs(stats.zscore(data)) > 3\n",
    "    print(f\"{outliers.sum()} outliers were removed from the {region} group.\")\n",
    "    # Remove the outliers\n",
    "    groups[region] = data.loc[~outliers]"
   ]
  },
  {
   "cell_type": "code",
   "execution_count": 33,
   "id": "b4cba415",
   "metadata": {},
   "outputs": [],
   "source": [
    "# normality assumption\n",
    "\n",
    "norm_results = {}\n",
    "for i, data in groups.items():\n",
    "    stat, p = stats.normaltest(data)\n",
    "    norm_results[i] = {'n': len(data),\n",
    "                       'p':p}\n"
   ]
  },
  {
   "cell_type": "code",
   "execution_count": 34,
   "id": "5e7cb3b0",
   "metadata": {},
   "outputs": [
    {
     "data": {
      "text/html": [
       "<div>\n",
       "<style scoped>\n",
       "    .dataframe tbody tr th:only-of-type {\n",
       "        vertical-align: middle;\n",
       "    }\n",
       "\n",
       "    .dataframe tbody tr th {\n",
       "        vertical-align: top;\n",
       "    }\n",
       "\n",
       "    .dataframe thead th {\n",
       "        text-align: right;\n",
       "    }\n",
       "</style>\n",
       "<table border=\"1\" class=\"dataframe\">\n",
       "  <thead>\n",
       "    <tr style=\"text-align: right;\">\n",
       "      <th></th>\n",
       "      <th>n</th>\n",
       "      <th>p</th>\n",
       "    </tr>\n",
       "  </thead>\n",
       "  <tbody>\n",
       "    <tr>\n",
       "      <th>southwest</th>\n",
       "      <td>317.0</td>\n",
       "      <td>7.728611e-22</td>\n",
       "    </tr>\n",
       "    <tr>\n",
       "      <th>southeast</th>\n",
       "      <td>362.0</td>\n",
       "      <td>1.936990e-13</td>\n",
       "    </tr>\n",
       "    <tr>\n",
       "      <th>northwest</th>\n",
       "      <td>318.0</td>\n",
       "      <td>2.940543e-19</td>\n",
       "    </tr>\n",
       "    <tr>\n",
       "      <th>northeast</th>\n",
       "      <td>320.0</td>\n",
       "      <td>3.557877e-17</td>\n",
       "    </tr>\n",
       "  </tbody>\n",
       "</table>\n",
       "</div>"
      ],
      "text/plain": [
       "               n             p\n",
       "southwest  317.0  7.728611e-22\n",
       "southeast  362.0  1.936990e-13\n",
       "northwest  318.0  2.940543e-19\n",
       "northeast  320.0  3.557877e-17"
      ]
     },
     "execution_count": 34,
     "metadata": {},
     "output_type": "execute_result"
    }
   ],
   "source": [
    "# Display a dataframe created from the norm_results dictonary and transpose it \n",
    "pd.DataFrame(norm_results).T"
   ]
  },
  {
   "cell_type": "code",
   "execution_count": 35,
   "id": "8980ffea",
   "metadata": {},
   "outputs": [],
   "source": [
    "# Create and display a dataframe created from the norm_results dictonary and transpose it \n",
    "norm_results_df = pd.DataFrame(norm_results).T\n",
    "# See if group pvalue was significant or not with a column indicate \n",
    "norm_results_df['sig'] = norm_results_df['p'] < .05"
   ]
  },
  {
   "cell_type": "code",
   "execution_count": 36,
   "id": "2a316f15",
   "metadata": {},
   "outputs": [
    {
     "data": {
      "text/html": [
       "<div>\n",
       "<style scoped>\n",
       "    .dataframe tbody tr th:only-of-type {\n",
       "        vertical-align: middle;\n",
       "    }\n",
       "\n",
       "    .dataframe tbody tr th {\n",
       "        vertical-align: top;\n",
       "    }\n",
       "\n",
       "    .dataframe thead th {\n",
       "        text-align: right;\n",
       "    }\n",
       "</style>\n",
       "<table border=\"1\" class=\"dataframe\">\n",
       "  <thead>\n",
       "    <tr style=\"text-align: right;\">\n",
       "      <th></th>\n",
       "      <th>n</th>\n",
       "      <th>p</th>\n",
       "      <th>sig</th>\n",
       "    </tr>\n",
       "  </thead>\n",
       "  <tbody>\n",
       "    <tr>\n",
       "      <th>southwest</th>\n",
       "      <td>317.0</td>\n",
       "      <td>7.728611e-22</td>\n",
       "      <td>True</td>\n",
       "    </tr>\n",
       "    <tr>\n",
       "      <th>southeast</th>\n",
       "      <td>362.0</td>\n",
       "      <td>1.936990e-13</td>\n",
       "      <td>True</td>\n",
       "    </tr>\n",
       "    <tr>\n",
       "      <th>northwest</th>\n",
       "      <td>318.0</td>\n",
       "      <td>2.940543e-19</td>\n",
       "      <td>True</td>\n",
       "    </tr>\n",
       "    <tr>\n",
       "      <th>northeast</th>\n",
       "      <td>320.0</td>\n",
       "      <td>3.557877e-17</td>\n",
       "      <td>True</td>\n",
       "    </tr>\n",
       "  </tbody>\n",
       "</table>\n",
       "</div>"
      ],
      "text/plain": [
       "               n             p   sig\n",
       "southwest  317.0  7.728611e-22  True\n",
       "southeast  362.0  1.936990e-13  True\n",
       "northwest  318.0  2.940543e-19  True\n",
       "northeast  320.0  3.557877e-17  True"
      ]
     },
     "execution_count": 36,
     "metadata": {},
     "output_type": "execute_result"
    }
   ],
   "source": [
    "# Display the results\n",
    "norm_results_df"
   ]
  },
  {
   "cell_type": "code",
   "execution_count": 37,
   "id": "a5f650c9",
   "metadata": {},
   "outputs": [],
   "source": [
    "# equal variance assumption\n",
    "# establish a statement for where its met or not\n",
    "ho = \"All input samples are from populations with equal variances.\"\n",
    "ha = \"All input samples are not from populations with equal variances.\"\n",
    "# alpha is 5%\n",
    "alpha = .05"
   ]
  },
  {
   "cell_type": "code",
   "execution_count": 38,
   "id": "d1a39676",
   "metadata": {},
   "outputs": [
    {
     "name": "stdout",
     "output_type": "stream",
     "text": [
      "The p-value for the test was 3.2035503711783993e-06\n",
      "It was less than the alpha value of 0.05, so\n",
      "All input samples are not from populations with equal variances.\n"
     ]
    }
   ],
   "source": [
    "# Run the test and display the results\n",
    "statistic, pvalue = stats.levene(*groups.values())\n",
    "if pvalue < alpha:\n",
    "    print(f'The p-value for the test was {pvalue}')\n",
    "    print(f'It was less than the alpha value of {alpha}, so')\n",
    "    print(ha)\n",
    "else:\n",
    "    print(f'The p-value for the test was {pvalue}')\n",
    "    print(f'It was greater than the alpha value of {alpha}, so')\n",
    "    print(ho) "
   ]
  },
  {
   "cell_type": "markdown",
   "id": "679e4ff8",
   "metadata": {},
   "source": [
    "# Run the selected test"
   ]
  },
  {
   "cell_type": "code",
   "execution_count": 39,
   "id": "9805ea89",
   "metadata": {},
   "outputs": [],
   "source": [
    "ho = 'No significant difference in charges exists between regions.'\n",
    "ha = 'A significant difference in charges exists between regions.'\n",
    "# keep alpha at 5%\n",
    "alpha = .05"
   ]
  },
  {
   "cell_type": "code",
   "execution_count": 40,
   "id": "dafb057b",
   "metadata": {},
   "outputs": [
    {
     "name": "stdout",
     "output_type": "stream",
     "text": [
      "The p-value for the test was 0.07468847911322242\n",
      "It was > the alpha value of 0.05, so\n",
      "No significant difference in charges exists between regions.\n"
     ]
    }
   ],
   "source": [
    "\n",
    "# Run the test and display the results\n",
    "statistic, pvalue = stats.kruskal(*groups.values())\n",
    "if pvalue < alpha:\n",
    "    print(f'The p-value for the test was {pvalue}')\n",
    "    print(f'It was < the alpha value of {alpha}, so')\n",
    "    print(ha)\n",
    "else:\n",
    "    print(f'The p-value for the test was {pvalue}')\n",
    "    print(f'It was > the alpha value of {alpha}, so')\n",
    "    print(ho)\n"
   ]
  },
  {
   "cell_type": "markdown",
   "id": "389f784a",
   "metadata": {},
   "source": [
    "## The null hypothesis was not rejected. "
   ]
  },
  {
   "cell_type": "markdown",
   "id": "a73b8441",
   "metadata": {},
   "source": [
    "# Supporting Visuals"
   ]
  },
  {
   "cell_type": "code",
   "execution_count": 41,
   "id": "598bc2d1",
   "metadata": {},
   "outputs": [
    {
     "data": {
      "image/png": "[encoded data removed]",
      "text/plain": [
       "<Figure size 640x480 with 1 Axes>"
      ]
     },
     "metadata": {},
     "output_type": "display_data"
    }
   ],
   "source": [
    "sns.barplot(data=df, x='region', y='charges', ci=68);"
   ]
  },
  {
   "cell_type": "code",
   "execution_count": null,
   "id": "e08e848a",
   "metadata": {},
   "outputs": [],
   "source": []
  }
 ],
 "metadata": {
  "kernelspec": {
   "display_name": "Python (dojo-env)",
   "language": "python",
   "name": "dojo-env"
  },
  "language_info": {
   "codemirror_mode": {
    "name": "ipython",
    "version": 3
   },
   "file_extension": ".py",
   "mimetype": "text/x-python",
   "name": "python",
   "nbconvert_exporter": "python",
   "pygments_lexer": "ipython3",
   "version": "3.8.13"
  },
  "toc": {
   "base_numbering": 1,
   "nav_menu": {},
   "number_sections": false,
   "sideBar": true,
   "skip_h1_title": false,
   "title_cell": "Table of Contents",
   "title_sidebar": "Contents",
   "toc_cell": false,
   "toc_position": {},
   "toc_section_display": true,
   "toc_window_display": false
  }
 },
 "nbformat": 4,
 "nbformat_minor": 5
}
